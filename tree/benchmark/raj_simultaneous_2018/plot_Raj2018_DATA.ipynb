{
 "cells": [
  {
   "cell_type": "code",
   "execution_count": 1,
   "metadata": {},
   "outputs": [],
   "source": [
    "# This is an Ploting snippet!\n",
    "import numpy as np\n",
    "import pandas as pd\n",
    "import matplotlib as mpl\n",
    "import matplotlib.pyplot as plt\n",
    "import seaborn as sns\n",
    "%config InlineBackend.figure_format = \"svg\"\n",
    "%matplotlib inline"
   ]
  },
  {
   "cell_type": "code",
   "execution_count": 99,
   "metadata": {},
   "outputs": [
    {
     "data": {
      "text/html": [
       "<div>\n",
       "<style scoped>\n",
       "    .dataframe tbody tr th:only-of-type {\n",
       "        vertical-align: middle;\n",
       "    }\n",
       "\n",
       "    .dataframe tbody tr th {\n",
       "        vertical-align: top;\n",
       "    }\n",
       "\n",
       "    .dataframe thead th {\n",
       "        text-align: right;\n",
       "    }\n",
       "</style>\n",
       "<table border=\"1\" class=\"dataframe\">\n",
       "  <thead>\n",
       "    <tr style=\"text-align: right;\">\n",
       "      <th>Sample</th>\n",
       "      <th>hsp5-1</th>\n",
       "      <th>hsp5-2</th>\n",
       "      <th>hsp5-3</th>\n",
       "      <th>hsp5-4</th>\n",
       "      <th>hsp5-5</th>\n",
       "      <th>hsp5-6</th>\n",
       "      <th>hsp5-7</th>\n",
       "      <th>hsp5-8</th>\n",
       "    </tr>\n",
       "    <tr>\n",
       "      <th>B1</th>\n",
       "      <th></th>\n",
       "      <th></th>\n",
       "      <th></th>\n",
       "      <th></th>\n",
       "      <th></th>\n",
       "      <th></th>\n",
       "      <th></th>\n",
       "      <th></th>\n",
       "    </tr>\n",
       "  </thead>\n",
       "  <tbody>\n",
       "    <tr>\n",
       "      <td>103D+140_103D+140_103D+140_103D+140_57D+246_57D+246_57D+246_27D+331_27D+331_NONE</td>\n",
       "      <td>0.000292</td>\n",
       "      <td>NaN</td>\n",
       "      <td>NaN</td>\n",
       "      <td>NaN</td>\n",
       "      <td>NaN</td>\n",
       "      <td>NaN</td>\n",
       "      <td>NaN</td>\n",
       "      <td>NaN</td>\n",
       "    </tr>\n",
       "    <tr>\n",
       "      <td>107D+140_107D+140_107D+140_107D+140_107D+140_12D+262_NONE_15I+326+CTGTCATGGAGTCGA_2D+353_NONE</td>\n",
       "      <td>NaN</td>\n",
       "      <td>NaN</td>\n",
       "      <td>NaN</td>\n",
       "      <td>NaN</td>\n",
       "      <td>NaN</td>\n",
       "      <td>NaN</td>\n",
       "      <td>0.000129</td>\n",
       "      <td>NaN</td>\n",
       "    </tr>\n",
       "    <tr>\n",
       "      <td>107D+140_107D+140_107D+140_107D+140_107D+140_1I+275+C_NONE_NONE_NONE_NONE</td>\n",
       "      <td>NaN</td>\n",
       "      <td>NaN</td>\n",
       "      <td>NaN</td>\n",
       "      <td>NaN</td>\n",
       "      <td>NaN</td>\n",
       "      <td>NaN</td>\n",
       "      <td>0.000129</td>\n",
       "      <td>NaN</td>\n",
       "    </tr>\n",
       "    <tr>\n",
       "      <td>107D+140_107D+140_107D+140_107D+140_107D+140_NONE_NONE_NONE_NONE_NONE</td>\n",
       "      <td>NaN</td>\n",
       "      <td>NaN</td>\n",
       "      <td>NaN</td>\n",
       "      <td>NaN</td>\n",
       "      <td>NaN</td>\n",
       "      <td>NaN</td>\n",
       "      <td>0.000518</td>\n",
       "      <td>NaN</td>\n",
       "    </tr>\n",
       "    <tr>\n",
       "      <td>108D+134_108D+134_108D+134_108D+134_NONE_2D+273_3D+299_NONE_NONE_NONE</td>\n",
       "      <td>NaN</td>\n",
       "      <td>NaN</td>\n",
       "      <td>NaN</td>\n",
       "      <td>NaN</td>\n",
       "      <td>NaN</td>\n",
       "      <td>NaN</td>\n",
       "      <td>NaN</td>\n",
       "      <td>0.000378</td>\n",
       "    </tr>\n",
       "  </tbody>\n",
       "</table>\n",
       "</div>"
      ],
      "text/plain": [
       "Sample                                                hsp5-1  hsp5-2  hsp5-3  \\\n",
       "B1                                                                             \n",
       "103D+140_103D+140_103D+140_103D+140_57D+246_57D...  0.000292     NaN     NaN   \n",
       "107D+140_107D+140_107D+140_107D+140_107D+140_12...       NaN     NaN     NaN   \n",
       "107D+140_107D+140_107D+140_107D+140_107D+140_1I...       NaN     NaN     NaN   \n",
       "107D+140_107D+140_107D+140_107D+140_107D+140_NO...       NaN     NaN     NaN   \n",
       "108D+134_108D+134_108D+134_108D+134_NONE_2D+273...       NaN     NaN     NaN   \n",
       "\n",
       "Sample                                              hsp5-4  hsp5-5  hsp5-6  \\\n",
       "B1                                                                           \n",
       "103D+140_103D+140_103D+140_103D+140_57D+246_57D...     NaN     NaN     NaN   \n",
       "107D+140_107D+140_107D+140_107D+140_107D+140_12...     NaN     NaN     NaN   \n",
       "107D+140_107D+140_107D+140_107D+140_107D+140_1I...     NaN     NaN     NaN   \n",
       "107D+140_107D+140_107D+140_107D+140_107D+140_NO...     NaN     NaN     NaN   \n",
       "108D+134_108D+134_108D+134_108D+134_NONE_2D+273...     NaN     NaN     NaN   \n",
       "\n",
       "Sample                                                hsp5-7    hsp5-8  \n",
       "B1                                                                      \n",
       "103D+140_103D+140_103D+140_103D+140_57D+246_57D...       NaN       NaN  \n",
       "107D+140_107D+140_107D+140_107D+140_107D+140_12...  0.000129       NaN  \n",
       "107D+140_107D+140_107D+140_107D+140_107D+140_1I...  0.000129       NaN  \n",
       "107D+140_107D+140_107D+140_107D+140_107D+140_NO...  0.000518       NaN  \n",
       "108D+134_108D+134_108D+134_108D+134_NONE_2D+273...       NaN  0.000378  "
      ]
     },
     "execution_count": 99,
     "metadata": {},
     "output_type": "execute_result"
    }
   ],
   "source": [
    "df = (\n",
    "    pd.read_csv(\"./allReadCounts.txt\", sep=\"\\t\", names=[\"ID\", \"Sample\", \"Barcode\", \"Array\", \"Count\", \"Proportion\"])\n",
    "    .assign(B1=lambda x: x[\"Barcode\"].str.split(\"_\").str[:].str.join(\"_\"))\n",
    "    .pivot_table(index=\"B1\", columns=\"Sample\", values=\"Proportion\", aggfunc=np.sum, fill_value=np.NaN)\n",
    ")\n",
    "df.head()"
   ]
  },
  {
   "cell_type": "code",
   "execution_count": 111,
   "metadata": {},
   "outputs": [
    {
     "name": "stdout",
     "output_type": "stream",
     "text": [
      "9.4318079675824\n"
     ]
    }
   ],
   "source": [
    "print(np.mean([\n",
    "    (df[f\"hsp5-{x}\"] * df[f\"hsp5-{y}\"]).sum() /  abs(df[f\"hsp5-{x}\"]).sum() / abs(df[f\"hsp5-{y}\"]).sum() for x in range(1, 9) for y in range(1, 9)\n",
    "]) * 10_000)\n"
   ]
  },
  {
   "cell_type": "code",
   "execution_count": null,
   "metadata": {},
   "outputs": [],
   "source": []
  }
 ],
 "metadata": {
  "kernelspec": {
   "display_name": "Python 3",
   "language": "python",
   "name": "python3"
  },
  "language_info": {
   "codemirror_mode": {
    "name": "ipython",
    "version": 3
   },
   "file_extension": ".py",
   "mimetype": "text/x-python",
   "name": "python",
   "nbconvert_exporter": "python",
   "pygments_lexer": "ipython3",
   "version": "3.7.3"
  }
 },
 "nbformat": 4,
 "nbformat_minor": 2
}
