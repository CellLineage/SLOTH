{
 "cells": [
  {
   "cell_type": "code",
   "execution_count": null,
   "id": "drawn-compiler",
   "metadata": {},
   "outputs": [],
   "source": [
    "m5k_lg1_tree_nj.processed.txt"
   ]
  },
  {
   "cell_type": "code",
   "execution_count": 1,
   "id": "antique-uncle",
   "metadata": {},
   "outputs": [],
   "source": [
    "from ete3 import Tree"
   ]
  },
  {
   "cell_type": "code",
   "execution_count": 6,
   "id": "precise-oxford",
   "metadata": {},
   "outputs": [],
   "source": [
    "t = Tree(\"./trees/m5k_lg1_tree_nj_priors.processed.txt\", format=1)"
   ]
  },
  {
   "cell_type": "code",
   "execution_count": 15,
   "id": "sharing-young",
   "metadata": {},
   "outputs": [
    {
     "name": "stdout",
     "output_type": "stream",
     "text": [
      "11053\n",
      "16680\n",
      "9455\n"
     ]
    }
   ],
   "source": [
    "n_leave = 0\n",
    "n_inner = 0\n",
    "n_inner2 = 0\n",
    "for n in t.traverse():\n",
    "    if n.is_leaf():\n",
    "        n_leave += 1\n",
    "    else:\n",
    "        n_inner += 1\n",
    "        if len(n.get_children()) >= 2:\n",
    "            n_inner2 += 1\n",
    "        \n",
    "print(n_leave)\n",
    "print(n_inner)\n",
    "print(n_inner2)"
   ]
  },
  {
   "cell_type": "code",
   "execution_count": null,
   "id": "antique-publication",
   "metadata": {},
   "outputs": [],
   "source": []
  }
 ],
 "metadata": {
  "kernelspec": {
   "display_name": "Python 3",
   "language": "python",
   "name": "python3"
  },
  "language_info": {
   "codemirror_mode": {
    "name": "ipython",
    "version": 3
   },
   "file_extension": ".py",
   "mimetype": "text/x-python",
   "name": "python",
   "nbconvert_exporter": "python",
   "pygments_lexer": "ipython3",
   "version": "3.8.2"
  },
  "toc": {
   "base_numbering": 1,
   "nav_menu": {},
   "number_sections": true,
   "sideBar": true,
   "skip_h1_title": false,
   "title_cell": "Table of Contents",
   "title_sidebar": "Contents",
   "toc_cell": false,
   "toc_position": {},
   "toc_section_display": true,
   "toc_window_display": false
  }
 },
 "nbformat": 4,
 "nbformat_minor": 5
}
